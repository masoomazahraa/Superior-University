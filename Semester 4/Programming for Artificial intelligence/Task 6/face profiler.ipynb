{
 "cells": [
  {
   "cell_type": "code",
   "execution_count": null,
   "id": "2734d682",
   "metadata": {},
   "outputs": [],
   "source": [
    "import numpy as np\n",
    "import cv2 \n",
    "import face_recognition as fr\n",
    "import matplotlib.pyplot as plt\n",
    "import cv2"
   ]
  },
  {
   "cell_type": "code",
   "execution_count": null,
   "id": "a53af496",
   "metadata": {},
   "outputs": [],
   "source": [
    "def face(image):\n",
    "    image =cv2.imread(image)\n",
    "    rgbimage=cv2.cvtColor(image,  cv2.COLOR_BGR2RGB) if isinstance(image,np.ndarray) else image\n",
    "    f_landmarks_list=fr.face_landmarks(rgbimage)\n",
    "    if not f_landmarks_list:\n",
    "        print(\"No face detected :D\")\n",
    "        return\n",
    "    facelandmarks=f_landmarks_list[0]\n",
    "    lefteye=np.array(facelandmarks['left_eye'])\n",
    "    righteye=np.array(facelandmarks['right_eye'])\n",
    "    nosebridge=np.array(facelandmarks['nose_bridge'])\n",
    "    chin=np.array(facelandmarks['chin'])\n",
    "    leftear= np.array([chin[0],chin[1],chin[2]])  \n",
    "    rightear=np.array([chin[-1],chin[-2],chin[-3]])  \n",
    "    eyewidth=np.linalg.norm(lefteye[0]-lefteye[3])\n",
    "    noselength=np.linalg.norm(nosebridge[0]- nosebridge[-1])\n",
    "    jawwidth=np.linalg.norm(chin[0]-chin[-1])\n",
    "    leftear_width=np.linalg.norm(leftear[0]-leftear[-1])\n",
    "    rightear_width=np.linalg.norm(rightear[0]-rightear[-1])\n",
    "    trustworthiness=\"Trustworthy\" if abs(leftear_width-rightear_width)<5 and eyewidth>noselength * 0.5 else \"Untrustworthy\"\n",
    "    for feature in face_landmarks.keys():\n",
    "        points=np.array(facelandmarks[feature])\n",
    "        for point in points:\n",
    "            cv2.circle(rgb_image,tuple(point),7,(0,255,0),-1)  \n",
    "    plt.figure(figsize=(8,6))  \n",
    "    plt.imshow(rgbimage)\n",
    "    plt.title(\"Detected Face with Landmarks\")\n",
    "    plt.axis(\"on\")\n",
    "    plt.show()\n",
    "    print(f\"Person is: {trustworthiness}\")\n",
    "    print(f\"Nose Length: {noselength:.2f} pixels\")\n",
    "    print(f\"Jaw Width: {jawwidth:.2f} pixels\")\n",
    "    print(f\"Eye Width: {eyewidth:.2f} pixels\")\n",
    "    print(f\"Right Ear Width: {rightear_width:.2f} pixels\")\n",
    "    print(f\"Left Ear Width: {leftear_width:.2f} pixels\")"
   ]
  },
  {
   "cell_type": "code",
   "execution_count": null,
   "id": "b73a7488",
   "metadata": {},
   "outputs": [],
   "source": [
    "image='D:\\Masooma\\Masooma Uni\\Superior University\\Semester 4\\Programming for Artificial intelligence\\Task 6\\project\\images\\image.jpeg'\n",
    "face(image)"
   ]
  },
  {
   "cell_type": "code",
   "execution_count": null,
   "id": "5dde6d42",
   "metadata": {},
   "outputs": [],
   "source": []
  }
 ],
 "metadata": {
  "kernelspec": {
   "display_name": "Python 3",
   "language": "python",
   "name": "python3"
  },
  "language_info": {
   "codemirror_mode": {
    "name": "ipython",
    "version": 3
   },
   "file_extension": ".py",
   "mimetype": "text/x-python",
   "name": "python",
   "nbconvert_exporter": "python",
   "pygments_lexer": "ipython3",
   "version": "3.11.9"
  }
 },
 "nbformat": 4,
 "nbformat_minor": 5
}
