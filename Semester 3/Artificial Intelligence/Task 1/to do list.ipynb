{
 "cells": [
  {
   "cell_type": "code",
   "execution_count": 3,
   "metadata": {},
   "outputs": [
    {
     "name": "stdout",
     "output_type": "stream",
     "text": [
      "============  To-Do List  ============\n",
      "1. Add a task.\n",
      "2. delete a task\n",
      "3. View your To-Do list\n",
      "4. Quit.\n",
      "Task has been added!\n",
      "============  To-Do List  ============\n",
      "1. Add a task.\n",
      "2. delete a task\n",
      "3. View your To-Do list\n",
      "4. Quit.\n",
      "Your To-Do list: \n",
      "1.  AI lab tasks\n",
      "============  To-Do List  ============\n",
      "1. Add a task.\n",
      "2. delete a task\n",
      "3. View your To-Do list\n",
      "4. Quit.\n",
      "Thank you for using the To-Do list :)\n"
     ]
    }
   ],
   "source": [
    "tasks=[]\n",
    "def add_tasks():\n",
    "    task = input(\"Add a task: \")\n",
    "    tasks.append(task)\n",
    "    print(\"You hae added a task!\")\n",
    "\n",
    "def delete_tasks():\n",
    "    if len(tasks)==0:\n",
    "        print(\"No tasks to delete :)\")\n",
    "    else:\n",
    "        print(\"Tasks: \")\n",
    "        for i,task in enumerate(tasks):\n",
    "            print(f\"{i+1}.  {task}\")\n",
    "        Task_no = int(input(\"Enter the task number to delete! \"))\n",
    "        if 0 < Task_no <= len(tasks):\n",
    "            del tasks[Task_no -1]\n",
    "            print(\"You delted a task.\")\n",
    "        else:\n",
    "            print(\"Invalid Task Number\")\n",
    "\n",
    "\n",
    "def view_tasks():\n",
    "    if len(tasks)==0:\n",
    "        print(\"You have nothing to do :)\")\n",
    "    else:\n",
    "        print(\"Your To-Do list: \")\n",
    "        for i,task in enumerate(tasks):\n",
    "            print(f\"{i+1}.  {task}\")\n",
    "\n",
    "def main():\n",
    "    while True:\n",
    "        print(\"============  To-Do List  ============\")\n",
    "        print(\"1. Add a task.\")\n",
    "        print(\"2. delete a task\")\n",
    "        print(\"3. View your To-Do list\")\n",
    "        print(\"4. Quit.\")\n",
    "\n",
    "        your_choice = int(input(\" Enter your Choice : \"))\n",
    "        if your_choice == 1:\n",
    "            add_tasks()\n",
    "        elif your_choice == 2:\n",
    "            delete_tasks()\n",
    "        elif your_choice ==3:\n",
    "            view_tasks()\n",
    "        elif your_choice == 4:\n",
    "            print(\"Thank you for using the To-Do list :)\")\n",
    "            break\n",
    "        else:\n",
    "            print(\"Invalid choice :( Try again! \")\n",
    "\n",
    "if __name__ == \"__main__\":\n",
    "    main()"
   ]
  }
 ],
 "metadata": {
  "kernelspec": {
   "display_name": "Python 3",
   "language": "python",
   "name": "python3"
  },
  "language_info": {
   "codemirror_mode": {
    "name": "ipython",
    "version": 3
   },
   "file_extension": ".py",
   "mimetype": "text/x-python",
   "name": "python",
   "nbconvert_exporter": "python",
   "pygments_lexer": "ipython3",
   "version": "3.11.9"
  }
 },
 "nbformat": 4,
 "nbformat_minor": 2
}
