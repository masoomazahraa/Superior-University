{
 "cells": [
  {
   "cell_type": "code",
   "execution_count": 4,
   "metadata": {},
   "outputs": [
    {
     "name": "stderr",
     "output_type": "stream",
     "text": [
      "C:\\Users\\Hamza\\AppData\\Local\\Packages\\PythonSoftwareFoundation.Python.3.11_qbz5n2kfra8p0\\LocalCache\\local-packages\\Python311\\site-packages\\tqdm\\auto.py:21: TqdmWarning: IProgress not found. Please update jupyter and ipywidgets. See https://ipywidgets.readthedocs.io/en/stable/user_install.html\n",
      "  from .autonotebook import tqdm as notebook_tqdm\n"
     ]
    }
   ],
   "source": [
    "import kagglehub\n",
    "import pandas as pd\n",
    "import os"
   ]
  },
  {
   "cell_type": "code",
   "execution_count": 5,
   "metadata": {},
   "outputs": [
    {
     "name": "stdout",
     "output_type": "stream",
     "text": [
      "Data set path: C:\\Users\\Hamza\\.cache\\kagglehub\\datasets\\jakewright\\200k-youtube-channel-analytics\\versions\\1\n"
     ]
    }
   ],
   "source": [
    "path = kagglehub.dataset_download(\"jakewright/200k-youtube-channel-analytics\")\n",
    "print(\"Data set path:\", path)"
   ]
  },
  {
   "cell_type": "code",
   "execution_count": 6,
   "metadata": {},
   "outputs": [
    {
     "name": "stdout",
     "output_type": "stream",
     "text": [
      "dataset Files ['all_youtube_analytics.csv']\n"
     ]
    }
   ],
   "source": [
    "dataset_files = os.listdir(path)\n",
    "print(\"dataset Files\", dataset_files)"
   ]
  },
  {
   "cell_type": "code",
   "execution_count": 7,
   "metadata": {},
   "outputs": [
    {
     "name": "stdout",
     "output_type": "stream",
     "text": [
      "\n",
      "First few rows:\n",
      "      video_id         day  views  redViews  comments  likes  dislikes  \\\n",
      "0  YuQaT52VEwo  2019-09-06    8.0       0.0       0.0    1.0       0.0   \n",
      "1  YuQaT52VEwo  2019-09-07    7.0       0.0       0.0    0.0       0.0   \n",
      "\n",
      "   videosAddedToPlaylists  videosRemovedFromPlaylists  shares  ...  \\\n",
      "0                     0.0                         0.0     0.0  ...   \n",
      "1                     1.0                         0.0     0.0  ...   \n",
      "\n",
      "   annotationClicks  annotationCloses  cardClickRate  cardTeaserClickRate  \\\n",
      "0               0.0               0.0            0.0                  0.0   \n",
      "1               0.0               0.0            0.0                  0.0   \n",
      "\n",
      "   cardImpressions  cardTeaserImpressions  cardClicks  cardTeaserClicks  \\\n",
      "0              0.0                    0.0         0.0               0.0   \n",
      "1              0.0                    0.0         0.0               0.0   \n",
      "\n",
      "   subscribersGained  subscribersLost  \n",
      "0                0.0              0.0  \n",
      "1                0.0              0.0  \n",
      "\n",
      "[2 rows x 29 columns]\n",
      "\n",
      "Dataset Columns: Index(['video_id', 'day', 'views', 'redViews', 'comments', 'likes', 'dislikes',\n",
      "       'videosAddedToPlaylists', 'videosRemovedFromPlaylists', 'shares',\n",
      "       'estimatedMinutesWatched', 'estimatedRedMinutesWatched',\n",
      "       'averageViewDuration', 'averageViewPercentage',\n",
      "       'annotationClickThroughRate', 'annotationCloseRate',\n",
      "       'annotationImpressions', 'annotationClickableImpressions',\n",
      "       'annotationClosableImpressions', 'annotationClicks', 'annotationCloses',\n",
      "       'cardClickRate', 'cardTeaserClickRate', 'cardImpressions',\n",
      "       'cardTeaserImpressions', 'cardClicks', 'cardTeaserClicks',\n",
      "       'subscribersGained', 'subscribersLost'],\n",
      "      dtype='object')\n"
     ]
    }
   ],
   "source": [
    "dataset_path = os.path.join(path, \"all_youtube_analytics.csv\")\n",
    "data = pd.read_csv(dataset_path)\n",
    "print(\"\\nFirst few rows:\")\n",
    "print(data.head(2))\n",
    "print(\"\\nDataset Columns:\", data.columns)"
   ]
  },
  {
   "cell_type": "code",
   "execution_count": 8,
   "metadata": {},
   "outputs": [
    {
     "name": "stdout",
     "output_type": "stream",
     "text": [
      "\n",
      "Distribution of 'subscribersGained' column:\n",
      "count    234889.000000\n",
      "mean          0.167173\n",
      "std           0.826207\n",
      "min           0.000000\n",
      "25%           0.000000\n",
      "50%           0.000000\n",
      "75%           0.000000\n",
      "max          31.000000\n",
      "Name: subscribersGained, dtype: float64\n",
      "\n",
      "Distribution of 'subscribersLost' column:\n",
      "count    234889.000000\n",
      "mean          0.004743\n",
      "std           0.079772\n",
      "min           0.000000\n",
      "25%           0.000000\n",
      "50%           0.000000\n",
      "75%           0.000000\n",
      "max           9.000000\n",
      "Name: subscribersLost, dtype: float64\n"
     ]
    }
   ],
   "source": [
    "if 'subscribersGained' in data.columns:\n",
    "    print(\"\\nDistribution of 'subscribersGained' column:\")\n",
    "    print(data['subscribersGained'].describe())\n",
    "else:\n",
    "    print(\"\\n'subscribersGained' column not found.\")\n",
    "if 'subscribersLost' in data.columns:\n",
    "    print(\"\\nDistribution of 'subscribersLost' column:\")\n",
    "    print(data['subscribersLost'].describe())\n",
    "else:\n",
    "    print(\"\\n'subscribersLost' column not found.\")\n"
   ]
  },
  {
   "cell_type": "code",
   "execution_count": 9,
   "metadata": {},
   "outputs": [
    {
     "name": "stdout",
     "output_type": "stream",
     "text": [
      "\n",
      "Missing values in each column:\n",
      "video_id                          0\n",
      "day                               0\n",
      "views                             0\n",
      "redViews                          0\n",
      "comments                          0\n",
      "likes                             0\n",
      "dislikes                          0\n",
      "videosAddedToPlaylists            0\n",
      "videosRemovedFromPlaylists        0\n",
      "shares                            0\n",
      "estimatedMinutesWatched           0\n",
      "estimatedRedMinutesWatched        0\n",
      "averageViewDuration               0\n",
      "averageViewPercentage             0\n",
      "annotationClickThroughRate        0\n",
      "annotationCloseRate               0\n",
      "annotationImpressions             0\n",
      "annotationClickableImpressions    0\n",
      "annotationClosableImpressions     0\n",
      "annotationClicks                  0\n",
      "annotationCloses                  0\n",
      "cardClickRate                     0\n",
      "cardTeaserClickRate               0\n",
      "cardImpressions                   0\n",
      "cardTeaserImpressions             0\n",
      "cardClicks                        0\n",
      "cardTeaserClicks                  0\n",
      "subscribersGained                 0\n",
      "subscribersLost                   0\n",
      "dtype: int64\n"
     ]
    }
   ],
   "source": [
    "print(\"\\nMissing values in each column:\")\n",
    "print(data.isnull().sum())"
   ]
  },
  {
   "cell_type": "code",
   "execution_count": 10,
   "metadata": {},
   "outputs": [
    {
     "name": "stdout",
     "output_type": "stream",
     "text": [
      "\n",
      "Summary Statistics:\n",
      "               views       redViews       comments          likes  \\\n",
      "count  234889.000000  234889.000000  234889.000000  234889.000000   \n",
      "mean       88.842121      18.717326       0.039419       0.969816   \n",
      "std       331.280375      78.293400       0.355816       3.984013   \n",
      "min         0.000000       0.000000       0.000000     -11.000000   \n",
      "25%         1.000000       0.000000       0.000000       0.000000   \n",
      "50%         8.000000       2.000000       0.000000       0.000000   \n",
      "75%        35.000000       8.000000       0.000000       0.000000   \n",
      "max      8818.000000    2658.000000      24.000000     206.000000   \n",
      "\n",
      "            dislikes  videosAddedToPlaylists  videosRemovedFromPlaylists  \\\n",
      "count  234889.000000           234889.000000               234889.000000   \n",
      "mean        0.032215                1.262835                    0.228908   \n",
      "std         0.241694                7.535244                    5.702640   \n",
      "min       -19.000000                0.000000                    0.000000   \n",
      "25%         0.000000                0.000000                    0.000000   \n",
      "50%         0.000000                0.000000                    0.000000   \n",
      "75%         0.000000                1.000000                    0.000000   \n",
      "max        11.000000             2678.000000                 2647.000000   \n",
      "\n",
      "              shares  estimatedMinutesWatched  estimatedRedMinutesWatched  \\\n",
      "count  234889.000000            234889.000000               234889.000000   \n",
      "mean        0.337198              3466.270749                  690.027341   \n",
      "std         1.552007             12548.191609                 2721.536527   \n",
      "min         0.000000                 0.000000                    0.000000   \n",
      "25%         0.000000                 2.000000                    0.000000   \n",
      "50%         0.000000               168.000000                   25.000000   \n",
      "75%         0.000000              1047.000000                  234.000000   \n",
      "max       251.000000            285103.000000                78470.000000   \n",
      "\n",
      "       ...  annotationClicks  annotationCloses  cardClickRate  \\\n",
      "count  ...          234889.0          234889.0  234889.000000   \n",
      "mean   ...               0.0               0.0       0.000429   \n",
      "std    ...               0.0               0.0       0.013099   \n",
      "min    ...               0.0               0.0       0.000000   \n",
      "25%    ...               0.0               0.0       0.000000   \n",
      "50%    ...               0.0               0.0       0.000000   \n",
      "75%    ...               0.0               0.0       0.000000   \n",
      "max    ...               0.0               0.0       1.250000   \n",
      "\n",
      "       cardTeaserClickRate  cardImpressions  cardTeaserImpressions  \\\n",
      "count        234889.000000    234889.000000          234889.000000   \n",
      "mean              0.000178         0.040185              10.419104   \n",
      "std               0.016315         0.617346              90.929272   \n",
      "min               0.000000         0.000000               0.000000   \n",
      "25%               0.000000         0.000000               0.000000   \n",
      "50%               0.000000         0.000000               0.000000   \n",
      "75%               0.000000         0.000000               0.000000   \n",
      "max               7.000000        60.000000            5894.000000   \n",
      "\n",
      "          cardClicks  cardTeaserClicks  subscribersGained  subscribersLost  \n",
      "count  234889.000000     234889.000000      234889.000000    234889.000000  \n",
      "mean        0.002150          0.017587           0.167173         0.004743  \n",
      "std         0.061275          0.364308           0.826207         0.079772  \n",
      "min         0.000000          0.000000           0.000000         0.000000  \n",
      "25%         0.000000          0.000000           0.000000         0.000000  \n",
      "50%         0.000000          0.000000           0.000000         0.000000  \n",
      "75%         0.000000          0.000000           0.000000         0.000000  \n",
      "max         8.000000        111.000000          31.000000         9.000000  \n",
      "\n",
      "[8 rows x 27 columns]\n"
     ]
    }
   ],
   "source": [
    "print(\"\\nSummary Statistics:\")\n",
    "print(data.describe())"
   ]
  },
  {
   "cell_type": "code",
   "execution_count": 11,
   "metadata": {},
   "outputs": [],
   "source": [
    "import numpy as np\n",
    "from sklearn.model_selection import train_test_split\n",
    "from sklearn.svm import SVC\n",
    "from sklearn.preprocessing import StandardScaler, LabelEncoder\n",
    "from sklearn.metrics import accuracy_score, classification_report"
   ]
  },
  {
   "cell_type": "code",
   "execution_count": 12,
   "metadata": {},
   "outputs": [
    {
     "name": "stderr",
     "output_type": "stream",
     "text": [
      "C:\\Users\\Hamza\\AppData\\Local\\Temp\\ipykernel_5216\\2349746636.py:3: FutureWarning: A value is trying to be set on a copy of a DataFrame or Series through chained assignment using an inplace method.\n",
      "The behavior will change in pandas 3.0. This inplace method will never work because the intermediate object on which we are setting values always behaves as a copy.\n",
      "\n",
      "For example, when doing 'df[col].method(value, inplace=True)', try using 'df.method({col: value}, inplace=True)' or df[col] = df[col].method(value) instead, to perform the operation inplace on the original object.\n",
      "\n",
      "\n",
      "  data[column].fillna(data[column].mode()[0], inplace=True)\n",
      "C:\\Users\\Hamza\\AppData\\Local\\Temp\\ipykernel_5216\\2349746636.py:5: FutureWarning: A value is trying to be set on a copy of a DataFrame or Series through chained assignment using an inplace method.\n",
      "The behavior will change in pandas 3.0. This inplace method will never work because the intermediate object on which we are setting values always behaves as a copy.\n",
      "\n",
      "For example, when doing 'df[col].method(value, inplace=True)', try using 'df.method({col: value}, inplace=True)' or df[col] = df[col].method(value) instead, to perform the operation inplace on the original object.\n",
      "\n",
      "\n",
      "  data[column].fillna(data[column].mean(), inplace=True)\n"
     ]
    }
   ],
   "source": [
    "for column in data.columns:\n",
    "    if data[column].dtype == 'object':\n",
    "        data[column].fillna(data[column].mode()[0], inplace=True)\n",
    "    else:\n",
    "        data[column].fillna(data[column].mean(), inplace=True)\n"
   ]
  },
  {
   "cell_type": "code",
   "execution_count": 13,
   "metadata": {},
   "outputs": [],
   "source": [
    "label_encoders = {}\n",
    "for column in data.select_dtypes(include='object').columns:\n",
    "    le = LabelEncoder()\n",
    "    data[column] = le.fit_transform(data[column])\n",
    "    label_encoders[column] = le"
   ]
  },
  {
   "cell_type": "code",
   "execution_count": 14,
   "metadata": {},
   "outputs": [],
   "source": [
    "X = data.drop('subscribersGained', axis=1)  # Replace 'target' with your target column name\n",
    "y = data['subscribersGained']"
   ]
  },
  {
   "cell_type": "code",
   "execution_count": 15,
   "metadata": {},
   "outputs": [],
   "source": [
    "scaler = StandardScaler()\n",
    "X = scaler.fit_transform(X)"
   ]
  },
  {
   "cell_type": "code",
   "execution_count": 16,
   "metadata": {},
   "outputs": [],
   "source": [
    "scaler = StandardScaler()\n",
    "X = scaler.fit_transform(X)"
   ]
  },
  {
   "cell_type": "code",
   "execution_count": 17,
   "metadata": {},
   "outputs": [],
   "source": [
    "X_train, X_test, y_train, y_test = train_test_split(X, y, test_size=0.2, random_state=42)"
   ]
  },
  {
   "cell_type": "code",
   "execution_count": null,
   "metadata": {},
   "outputs": [],
   "source": [
    "svm_classifier = SVC(kernel='linear', random_state=42)\n",
    "svm_classifier.fit(X_train, y_train)"
   ]
  },
  {
   "cell_type": "code",
   "execution_count": null,
   "metadata": {},
   "outputs": [],
   "source": [
    "y_pred = svm_classifier.predict(X_test)\n",
    "accuracy = accuracy_score(y_test, y_pred)\n",
    "print(f\"Accuracy: {accuracy}\")\n",
    "print(\"Classification Report:\")\n",
    "print(classification_report(y_test, y_pred))"
   ]
  },
  {
   "cell_type": "code",
   "execution_count": null,
   "metadata": {},
   "outputs": [],
   "source": []
  }
 ],
 "metadata": {
  "kernelspec": {
   "display_name": "Python 3",
   "language": "python",
   "name": "python3"
  },
  "language_info": {
   "codemirror_mode": {
    "name": "ipython",
    "version": 3
   },
   "file_extension": ".py",
   "mimetype": "text/x-python",
   "name": "python",
   "nbconvert_exporter": "python",
   "pygments_lexer": "ipython3",
   "version": "3.11.9"
  }
 },
 "nbformat": 4,
 "nbformat_minor": 2
}
