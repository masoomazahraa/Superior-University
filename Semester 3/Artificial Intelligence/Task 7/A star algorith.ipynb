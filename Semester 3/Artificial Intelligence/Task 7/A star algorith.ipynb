{
 "cells": [
  {
   "cell_type": "code",
   "execution_count": 2,
   "metadata": {},
   "outputs": [
    {
     "name": "stdout",
     "output_type": "stream",
     "text": [
      "Path: ['A', 'C', 'D']\n"
     ]
    }
   ],
   "source": [
    "class Node:\n",
    "    def __init__(self,value, parent=None, g=0,h=0):\n",
    "        self.value = value\n",
    "        self.parent = parent\n",
    "        self.g =g\n",
    "        self.h =h\n",
    "        self.f =g+h\n",
    "    def __lt__(self,other):\n",
    "        return self.f<other.f\n",
    "def a_star(start,goal,neighbours, heuristic):\n",
    "    open_list=[start]\n",
    "    closed_list=set()\n",
    "    while open_list:\n",
    "        open_list.sort(key=lambda x:x.f)\n",
    "        current=open_list.pop(0)\n",
    "        if current.value == goal.value:\n",
    "            path=[]\n",
    "            while current:\n",
    "                path.append(current.value)\n",
    "                current=current.parent\n",
    "            return path[::-1]\n",
    "        closed_list.add(current.value)\n",
    "        for neighbour, cost in neighbours[current.value]:\n",
    "            if neighbour in closed_list:\n",
    "                continue\n",
    "            g_cost=current.g + cost\n",
    "            h_cost=heuristic[neighbour]\n",
    "            neighbour_node=Node(neighbour,current,g_cost,h_cost)\n",
    "            in_open_list=next((n for n in open_list if n.value==neighbour), None)\n",
    "            if not in_open_list or neighbour_node.f<in_open_list.f:\n",
    "                open_list.append(neighbour_node)\n",
    "    return None\n",
    "neighbours = {\n",
    "    \"A\": [(\"B\", 1), (\"C\", 4)],\n",
    "    \"B\": [(\"A\", 1), (\"C\", 2), (\"D\", 5)],\n",
    "    \"C\": [(\"A\", 4), (\"B\", 2), (\"D\", 1)],\n",
    "    \"D\": [(\"B\", 5), (\"C\", 1)]\n",
    "}\n",
    "heuristic = {\n",
    "    \"A\": 7,\n",
    "    \"B\": 6,\n",
    "    \"C\": 2,\n",
    "    \"D\": 0\n",
    "}\n",
    "\n",
    "start =Node(\"A\", None, 0, heuristic[\"A\"])\n",
    "goal= Node(\"D\", None, 0, heuristic[\"D\"])\n",
    "path= a_star(start,goal,neighbours,heuristic)\n",
    "print(\"Path:\", path)"
   ]
  }
 ],
 "metadata": {
  "kernelspec": {
   "display_name": "Python 3",
   "language": "python",
   "name": "python3"
  },
  "language_info": {
   "codemirror_mode": {
    "name": "ipython",
    "version": 3
   },
   "file_extension": ".py",
   "mimetype": "text/x-python",
   "name": "python",
   "nbconvert_exporter": "python",
   "pygments_lexer": "ipython3",
   "version": "3.11.9"
  }
 },
 "nbformat": 4,
 "nbformat_minor": 2
}
