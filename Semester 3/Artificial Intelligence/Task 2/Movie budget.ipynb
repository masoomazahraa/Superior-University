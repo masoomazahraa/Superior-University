{
 "cells": [
  {
   "cell_type": "code",
   "execution_count": 13,
   "metadata": {},
   "outputs": [
    {
     "name": "stdout",
     "output_type": "stream",
     "text": [
      "The average budget is: 166687515.375:\n",
      "Pirates of the Caribbean: On Stranger Tides costed: $379000000 which is: $212312484.625 over the average budget i.e. $166687515.375\n",
      "Avengers: Age of Ultron costed: $365000000 which is: $198312484.625 over the average budget i.e. $166687515.375\n",
      "Avengers: Endgame costed: $356000000 which is: $189312484.625 over the average budget i.e. $166687515.375\n",
      "Incredibles 2 costed: $200000000 which is: $33312484.625 over the average budget i.e. $166687515.375\n",
      "4 is the number of movies that exceeded the average budget.\n"
     ]
    }
   ],
   "source": [
    "movies = [\n",
    "    (\"Eternal Sunshine of the Spotless Mind\", 20000000),\n",
    "    (\"Memento\", 9000000),\n",
    "    (\"Requiem for a Dream\", 4500000),\n",
    "    (\"Pirates of the Caribbean: On Stranger Tides\", 379000000),\n",
    "    (\"Avengers: Age of Ultron\", 365000000),\n",
    "    (\"Avengers: Endgame\", 356000000),\n",
    "    (\"Incredibles 2\", 200000000)\n",
    "]\n",
    "\n",
    "def calculateaverage(movies):\n",
    "    totalbudget = 0\n",
    "    for movie in movies:\n",
    "        totalbudget = totalbudget + movie[1]\n",
    "    averagebudget=totalbudget/len(movies)\n",
    "    return averagebudget\n",
    "def OverBudgetDetection(movies,averagebudget):\n",
    "    highbudgetmovies=[]\n",
    "    for movie in movies:\n",
    "        if movie[1] > averagebudget:\n",
    "            highbudgetmovies.append(movie)\n",
    "            overbudget= movie[1]-averagebudget\n",
    "            print(f\"{movie[0]} costed: ${movie[1]} which is: ${overbudget} over the average budget i.e. ${averagebudget}\")\n",
    "    print(f\"{len(highbudgetmovies)} is the number of movies that exceeded the average budget.\")\n",
    "\n",
    "def AddMovies(movies):\n",
    "    MoviesNo=int(input(\"How many movies do you want to add?\"))\n",
    "    for i in range(MoviesNo):\n",
    "        name = input(\"What is the name of the movie? \")\n",
    "        budget = int(input(\"What is the budget of the movie? \"))\n",
    "        movies.append((name, budget))\n",
    "    return movies\n",
    "\n",
    "    \n",
    "\n",
    "def main():\n",
    "    updated=AddMovies(movies)\n",
    "    averagebudget=calculateaverage(updated)\n",
    "    print(f\"The average budget is: {averagebudget}:\")\n",
    "    OverBudgetDetection(updated,averagebudget)\n",
    "    \n",
    "if __name__ == \"__main__\":\n",
    "    main()"
   ]
  }
 ],
 "metadata": {
  "kernelspec": {
   "display_name": "Python 3",
   "language": "python",
   "name": "python3"
  },
  "language_info": {
   "codemirror_mode": {
    "name": "ipython",
    "version": 3
   },
   "file_extension": ".py",
   "mimetype": "text/x-python",
   "name": "python",
   "nbconvert_exporter": "python",
   "pygments_lexer": "ipython3",
   "version": "3.11.9"
  }
 },
 "nbformat": 4,
 "nbformat_minor": 2
}
