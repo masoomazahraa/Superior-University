{
 "cells": [
  {
   "cell_type": "code",
   "execution_count": 3,
   "metadata": {},
   "outputs": [
    {
     "name": "stdout",
     "output_type": "stream",
     "text": [
      "FizzBuzz\n"
     ]
    }
   ],
   "source": [
    "#simple method:\n",
    "def FizzBuzz(input):\n",
    "    if (input % 3 ==0) and (input % 5 == 0):\n",
    "        print(\"FizzBuzz\")\n",
    "    elif input % 3 ==0:\n",
    "        print(\"Fizz\")\n",
    "    elif input % 5 == 0:\n",
    "        print(\"Buzz\")\n",
    "    else:\n",
    "        print(input)\n",
    "\n",
    "FizzBuzz(15)\n"
   ]
  },
  {
   "cell_type": "code",
   "execution_count": 15,
   "metadata": {},
   "outputs": [
    {
     "name": "stdout",
     "output_type": "stream",
     "text": [
      "1\n",
      "2\n",
      "Fizz\n",
      "4\n",
      "Buzz\n",
      "Fizz\n",
      "7\n",
      "8\n",
      "Fizz\n",
      "Buzz\n",
      "11\n",
      "Fizz\n",
      "13\n",
      "14\n",
      "FizzBuzz\n"
     ]
    }
   ],
   "source": [
    "#using for loop:\n",
    "def fizzbuzz(n):\n",
    "    for no in range(1, n+1):\n",
    "        if (no % 3 ==0) and (no % 5 == 0):    \n",
    "            print(\"FizzBuzz\")\n",
    "        elif no % 3 ==0:\n",
    "            print(\"Fizz\")\n",
    "        elif no % 5 == 0:\n",
    "            print(\"Buzz\")\n",
    "        else:\n",
    "            print(no)\n",
    "fizzbuzz(15)"
   ]
  }
 ],
 "metadata": {
  "kernelspec": {
   "display_name": "Python 3",
   "language": "python",
   "name": "python3"
  },
  "language_info": {
   "codemirror_mode": {
    "name": "ipython",
    "version": 3
   },
   "file_extension": ".py",
   "mimetype": "text/x-python",
   "name": "python",
   "nbconvert_exporter": "python",
   "pygments_lexer": "ipython3",
   "version": "3.11.9"
  }
 },
 "nbformat": 4,
 "nbformat_minor": 2
}
