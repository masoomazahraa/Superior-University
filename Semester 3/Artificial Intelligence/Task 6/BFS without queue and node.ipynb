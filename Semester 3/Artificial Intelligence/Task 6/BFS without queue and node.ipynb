{
 "cells": [
  {
   "cell_type": "code",
   "execution_count": 1,
   "metadata": {},
   "outputs": [
    {
     "name": "stdout",
     "output_type": "stream",
     "text": [
      "BFS Traversal: [0, 1, 2, 3, 4]\n"
     ]
    }
   ],
   "source": [
    "def BFS(matrix, current, visited, result):\n",
    "    if not current:\n",
    "        return\n",
    "    next=[]\n",
    "    for i in current:\n",
    "        if not visited[i]:\n",
    "            visited[i] =True\n",
    "            result.append(i)\n",
    "            for j, is_connected in enumerate(matrix[i]):\n",
    "                if is_connected and not visited[j]:\n",
    "                    next.append(j)\n",
    "    BFS(matrix, next, visited, result)\n",
    "\n",
    "def bfs(matrix, start):\n",
    "    n=len(matrix)\n",
    "    visited=[False]*n\n",
    "    result = []\n",
    "    BFS(matrix, [start], visited,result)\n",
    "    return result\n",
    "\n",
    "matrix = [\n",
    "    [0, 1, 1, 0, 0],\n",
    "    [1, 0, 0, 1, 0],\n",
    "    [1, 0, 0, 0, 1],\n",
    "    [0, 1, 0, 0, 0],\n",
    "    [0, 0, 1, 0, 0],\n",
    "]\n",
    "\n",
    "result = bfs(matrix, 0)\n",
    "print(\"BFS Traversal:\", result)"
   ]
  }
 ],
 "metadata": {
  "kernelspec": {
   "display_name": "Python 3",
   "language": "python",
   "name": "python3"
  },
  "language_info": {
   "codemirror_mode": {
    "name": "ipython",
    "version": 3
   },
   "file_extension": ".py",
   "mimetype": "text/x-python",
   "name": "python",
   "nbconvert_exporter": "python",
   "pygments_lexer": "ipython3",
   "version": "3.11.9"
  }
 },
 "nbformat": 4,
 "nbformat_minor": 2
}
