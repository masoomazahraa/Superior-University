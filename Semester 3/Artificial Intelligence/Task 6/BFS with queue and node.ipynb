{
 "cells": [
  {
   "cell_type": "code",
   "execution_count": 3,
   "metadata": {},
   "outputs": [
    {
     "name": "stdout",
     "output_type": "stream",
     "text": [
      "BFS:  [0, 1, 2, 3, 4, 5]\n"
     ]
    }
   ],
   "source": [
    "from collections import deque\n",
    "\n",
    "class Node:\n",
    "    def __init__(self, value):\n",
    "        self.value=value\n",
    "        self.neighbours=[]\n",
    "def bfs(start):\n",
    "    visited =set()\n",
    "    traversal_result = []\n",
    "    queue = deque([start])\n",
    "    while queue:\n",
    "        current = queue.popleft()\n",
    "        if current not in visited:\n",
    "            visited.add(current)\n",
    "            traversal_result.append(current.value)\n",
    "            for neighbour in current.neighbours:\n",
    "                if neighbour not in visited:\n",
    "                    queue.append(neighbour)\n",
    "    return traversal_result\n",
    "\n",
    "node0=Node(0)\n",
    "node1=Node(1)\n",
    "node2=Node(2)\n",
    "node3=Node(3)\n",
    "node4=Node(4)\n",
    "node5=Node(5)\n",
    "node6=Node(6)\n",
    "\n",
    "node0.neighbours=[node1, node2]\n",
    "node1.neighbours=[node0, node3, node4]\n",
    "node2.neighbours=[node0, node5]\n",
    "node3.neighbours=[node1]\n",
    "node4.neighbours=[node1]\n",
    "node5.neighbours=[node2]\n",
    "\n",
    "result = bfs(node0)\n",
    "print(\"BFS: \", result)"
   ]
  }
 ],
 "metadata": {
  "kernelspec": {
   "display_name": "Python 3",
   "language": "python",
   "name": "python3"
  },
  "language_info": {
   "codemirror_mode": {
    "name": "ipython",
    "version": 3
   },
   "file_extension": ".py",
   "mimetype": "text/x-python",
   "name": "python",
   "nbconvert_exporter": "python",
   "pygments_lexer": "ipython3",
   "version": "3.11.9"
  }
 },
 "nbformat": 4,
 "nbformat_minor": 2
}
