{
 "cells": [
  {
   "cell_type": "code",
   "execution_count": 3,
   "metadata": {},
   "outputs": [
    {
     "name": "stdout",
     "output_type": "stream",
     "text": [
      "goal has been found!:  F\n",
      "Visited Nodes:  ['A', 'B', 'D', 'E', 'C', 'F', 'G']\n",
      "\n",
      "Tree Structure: \n",
      "        A\n",
      "       / \\\n",
      "      B   C\n",
      "     / \\ / \\\n",
      "    D  E F  G\n"
     ]
    }
   ],
   "source": [
    "Tree ={\n",
    "    'A': ['B', 'C'],\n",
    "    'B': ['D', 'E'],\n",
    "    'C': ['F', 'G'],\n",
    "    'D': [],\n",
    "    'E': [],\n",
    "    'F': [],\n",
    "    'G': []   \n",
    "}\n",
    "def dfs(start,goal):\n",
    "    Stack = [start]\n",
    "    Visited =[]\n",
    "\n",
    "    while Stack:\n",
    "        node=Stack.pop()\n",
    "        if node not in Visited:\n",
    "            Visited.append(node)\n",
    "            if node == goal:\n",
    "                print(\"goal has been found!: \", node)\n",
    "            for neighbour in reversed(Tree[node]):\n",
    "                Stack.append(neighbour)\n",
    "    return Visited\n",
    "visited_nodes= dfs('A','F')\n",
    "\n",
    "print(\"Visited Nodes: \",visited_nodes)\n",
    "\n",
    "def tree():\n",
    "    print(\"\\nTree Structure: \")\n",
    "    print(\"        A\")\n",
    "    print(\"       / \\\\\")\n",
    "    print(\"      B   C\")\n",
    "    print(\"     / \\\\ / \\\\\")\n",
    "    print(\"    D  E F  G\")\n",
    "\n",
    "tree()"
   ]
  }
 ],
 "metadata": {
  "kernelspec": {
   "display_name": "Python 3",
   "language": "python",
   "name": "python3"
  },
  "language_info": {
   "codemirror_mode": {
    "name": "ipython",
    "version": 3
   },
   "file_extension": ".py",
   "mimetype": "text/x-python",
   "name": "python",
   "nbconvert_exporter": "python",
   "pygments_lexer": "ipython3",
   "version": "3.11.9"
  }
 },
 "nbformat": 4,
 "nbformat_minor": 2
}
