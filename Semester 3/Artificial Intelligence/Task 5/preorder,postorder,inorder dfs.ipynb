{
 "cells": [
  {
   "cell_type": "code",
   "execution_count": 2,
   "metadata": {},
   "outputs": [],
   "source": [
    "tree = {\n",
    "    'A': ['B', 'C'],\n",
    "    'B': ['D', 'E'],\n",
    "    'C': ['F', 'G'],\n",
    "    'D': [],\n",
    "    'E': [],\n",
    "    'F': [],\n",
    "    'G': []\n",
    "}"
   ]
  },
  {
   "cell_type": "code",
   "execution_count": 3,
   "metadata": {},
   "outputs": [
    {
     "name": "stdout",
     "output_type": "stream",
     "text": [
      "Pre order traversal:  ['A', 'B', 'D', 'E', 'C', 'F', 'G']\n"
     ]
    }
   ],
   "source": [
    "#Pre-order implemented in DFS:\n",
    "def preorder(node,result):\n",
    "    if node:\n",
    "        result.append(node)\n",
    "        for child in tree[node]:\n",
    "            preorder(child,result)\n",
    "\n",
    "PreorderResult=[]\n",
    "preorder('A', PreorderResult)\n",
    "print(\"Pre order traversal: \", PreorderResult)"
   ]
  },
  {
   "cell_type": "code",
   "execution_count": 4,
   "metadata": {},
   "outputs": [
    {
     "name": "stdout",
     "output_type": "stream",
     "text": [
      "Post order traversal:  ['D', 'E', 'B', 'F', 'G', 'C', 'A']\n"
     ]
    }
   ],
   "source": [
    "#Post-order implemented in DFS:\n",
    "def postorder(node,result):\n",
    "    if node:\n",
    "        for child in tree[node]:\n",
    "            postorder(child,result)\n",
    "        result.append(node)\n",
    "\n",
    "PostOrderResult=[]\n",
    "postorder('A',PostOrderResult)\n",
    "print(\"Post order traversal: \", PostOrderResult)"
   ]
  },
  {
   "cell_type": "code",
   "execution_count": 5,
   "metadata": {},
   "outputs": [
    {
     "name": "stdout",
     "output_type": "stream",
     "text": [
      "Post order traversal:  ['D', 'B', 'E', 'A', 'F', 'C', 'G']\n"
     ]
    }
   ],
   "source": [
    "#Inorder implemented in DFS:\n",
    "def inorder(node,result):\n",
    "    if node:\n",
    "        children = tree[node]\n",
    "        if children:\n",
    "            inorder(children[0],result)\n",
    "        result.append(node)\n",
    "        for child in children[1:]:\n",
    "            inorder(child,result)\n",
    "InOrderResult=[]\n",
    "inorder('A',InOrderResult)\n",
    "print(\"Post order traversal: \",InOrderResult)"
   ]
  }
 ],
 "metadata": {
  "kernelspec": {
   "display_name": "Python 3",
   "language": "python",
   "name": "python3"
  },
  "language_info": {
   "codemirror_mode": {
    "name": "ipython",
    "version": 3
   },
   "file_extension": ".py",
   "mimetype": "text/x-python",
   "name": "python",
   "nbconvert_exporter": "python",
   "pygments_lexer": "ipython3",
   "version": "3.11.9"
  }
 },
 "nbformat": 4,
 "nbformat_minor": 2
}
