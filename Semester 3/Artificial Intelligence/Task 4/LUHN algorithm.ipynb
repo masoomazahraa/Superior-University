{
 "cells": [
  {
   "cell_type": "code",
   "execution_count": 2,
   "metadata": {},
   "outputs": [
    {
     "name": "stdout",
     "output_type": "stream",
     "text": [
      "The card number is valid.\n"
     ]
    }
   ],
   "source": [
    "#LUHN algorithm:\n",
    "\n",
    "def Luhn(input):\n",
    "    input = input[::-1]\n",
    "    input = [int(x) for x in str(input)]\n",
    "\n",
    "    for i in range(1, len(input),2):\n",
    "        input[i] *=2\n",
    "        if input[i] > 9:\n",
    "            input[i]= input[i]%10+1\n",
    "    \n",
    "    total=sum(input)\n",
    "    return total % 10 ==0\n",
    "\n",
    "input = input(\"Enter the card number: \")\n",
    "if Luhn(input):\n",
    "    print(\"The card number is valid.\")\n",
    "else:\n",
    "    print(\"The card number is invalid.\")"
   ]
  }
 ],
 "metadata": {
  "kernelspec": {
   "display_name": "Python 3",
   "language": "python",
   "name": "python3"
  },
  "language_info": {
   "codemirror_mode": {
    "name": "ipython",
    "version": 3
   },
   "file_extension": ".py",
   "mimetype": "text/x-python",
   "name": "python",
   "nbconvert_exporter": "python",
   "pygments_lexer": "ipython3",
   "version": "3.11.9"
  }
 },
 "nbformat": 4,
 "nbformat_minor": 2
}
