{
 "cells": [
  {
   "cell_type": "code",
   "execution_count": 7,
   "metadata": {},
   "outputs": [
    {
     "name": "stdout",
     "output_type": "stream",
     "text": [
      "The sorted word is:  aaaahmmoorsz\n"
     ]
    }
   ],
   "source": [
    "def SortingWord(word):\n",
    "    words= list(word)\n",
    "    n = len(words)\n",
    "    for i in range(n):\n",
    "        for j in range(0, n-i-1):\n",
    "            if words[j] > words[j+1]:\n",
    "                words[j], words[j+1] = words[j+1], words[j]\n",
    "    return ''.join(words)\n",
    "word = input(\"Enter a word: \")\n",
    "print(\"The word is: \", word)\n"
    "sorted = SortingWord(word)\n",
    "print(\"The sorted word is: \", sorted)\n"
   ]
  }
 ],
 "metadata": {
  "kernelspec": {
   "display_name": "Python 3",
   "language": "python",
   "name": "python3"
  },
  "language_info": {
   "codemirror_mode": {
    "name": "ipython",
    "version": 3
   },
   "file_extension": ".py",
   "mimetype": "text/x-python",
   "name": "python",
   "nbconvert_exporter": "python",
   "pygments_lexer": "ipython3",
   "version": "3.11.9"
  }
 },
 "nbformat": 4,
 "nbformat_minor": 2
}
