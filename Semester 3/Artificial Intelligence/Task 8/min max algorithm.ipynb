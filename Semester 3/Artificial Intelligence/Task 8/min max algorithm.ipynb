{
 "cells": [
  {
   "cell_type": "code",
   "execution_count": 5,
   "metadata": {},
   "outputs": [
    {
     "name": "stdout",
     "output_type": "stream",
     "text": [
      "X best move: (0, 1)\n"
     ]
    }
   ],
   "source": [
    "game = [\n",
    "    [1, 0, -1],\n",
    "    [-1, 1, 0],\n",
    "    [0, -1, 1]\n",
    "]\n",
    "def victory(player):\n",
    "    for i in range(3):\n",
    "        if all(game[i][j]==player for j in range(3)) or all(game[j][i]==player for j in range(3)):\n",
    "            return True\n",
    "    if game[0][0]==game[1][1]==game[2][2]==player or game[0][2]==game[1][1]==game[2][0]==player:\n",
    "        return True\n",
    "    return False\n",
    "def minimax(maximizing_player):\n",
    "    if victory(1):return 10\n",
    "    if victory(-1):return -10\n",
    "    if all(game[i][j]!=0 for i in range(3) for j in range(3)):return 0\n",
    "    best_score=-float('inf') if maximizing_player else float('inf')\n",
    "    for i in range(3):\n",
    "        for j in range(3):\n",
    "            if game[i][j]==0:\n",
    "                game[i][j]=1 if maximizing_player else -1\n",
    "                score=minimax(not maximizing_player)\n",
    "                game[i][j]=0\n",
    "                best_score = max(best_score, score) if maximizing_player else min(best_score, score)\n",
    "    return best_score\n",
    "def best_move():\n",
    "    best_score=-float('inf')\n",
    "    best_move=None\n",
    "    for i in range(3):\n",
    "        for j in range(3):\n",
    "            if game[i][j]==0:\n",
    "                game[i][j]=1\n",
    "                score =minimax(False)\n",
    "                game[i][j]=0\n",
    "                if score>best_score:\n",
    "                    best_score=score\n",
    "                    best_move=(i, j)\n",
    "    return best_move\n",
    "move =best_move()\n",
    "print(f\"X best move: {move}\")"
   ]
  }
 ],
 "metadata": {
  "kernelspec": {
   "display_name": "Python 3",
   "language": "python",
   "name": "python3"
  },
  "language_info": {
   "codemirror_mode": {
    "name": "ipython",
    "version": 3
   },
   "file_extension": ".py",
   "mimetype": "text/x-python",
   "name": "python",
   "nbconvert_exporter": "python",
   "pygments_lexer": "ipython3",
   "version": "3.11.9"
  }
 },
 "nbformat": 4,
 "nbformat_minor": 2
}
