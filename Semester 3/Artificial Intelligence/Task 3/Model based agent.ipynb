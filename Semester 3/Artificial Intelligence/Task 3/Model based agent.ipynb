{
 "cells": [
  {
   "cell_type": "code",
   "execution_count": 1,
   "metadata": {},
   "outputs": [],
   "source": [
    "class ModelBasedAgent:\n",
    "    def __init__(self, desired_temp):\n",
    "        self.desired_temp = desired_temp\n",
    "        self.current_temp = None\n",
    "        self.rooms = {}\n",
    "\n",
    "    def percept(self, room, temp):\n",
    "        self.current_temp = temp\n",
    "        self.rooms[room] = temp\n",
    "\n",
    "    def update_model(self, room, temp):\n",
    "        self.rooms[room] = temp\n",
    "\n",
    "    def Act(self, room):\n",
    "        if self.rooms[room] > self.desired_temp:\n",
    "            return \"Turn off the heater in \" + room\n",
    "        else:\n",
    "            return \"Turn on the heater in \" + room\n",
    "\n"
   ]
  },
  {
   "cell_type": "code",
   "execution_count": 2,
   "metadata": {},
   "outputs": [
    {
     "name": "stdout",
     "output_type": "stream",
     "text": [
      "Living Room:28==>Turn off the heater in Living Room\n",
      "Bedroom:18==>Turn on the heater in Bedroom\n",
      "Kitchen:32==>Turn off the heater in Kitchen\n"
     ]
    }
   ],
   "source": [
    "Agent = ModelBasedAgent(22)\n",
    "rooms = {\n",
    "    \"Living Room\": 28,\n",
    "    \"Bedroom\": 18,\n",
    "    \"Kitchen\": 32\n",
    "}\n",
    "for room, temp in rooms.items():\n",
    "    Agent.percept(room, temp)\n",
    "    print(f\"{room}:{temp}==>{Agent.Act(room)}\")"
   ]
  }
 ],
 "metadata": {
  "kernelspec": {
   "display_name": "Python 3",
   "language": "python",
   "name": "python3"
  },
  "language_info": {
   "codemirror_mode": {
    "name": "ipython",
    "version": 3
   },
   "file_extension": ".py",
   "mimetype": "text/x-python",
   "name": "python",
   "nbconvert_exporter": "python",
   "pygments_lexer": "ipython3",
   "version": "3.11.9"
  }
 },
 "nbformat": 4,
 "nbformat_minor": 2
}
